{
 "cells": [
  {
   "cell_type": "code",
   "execution_count": 1,
   "id": "587aae72",
   "metadata": {},
   "outputs": [],
   "source": [
    "import random\n",
    "import numpy as np\n",
    "import pandas as pd"
   ]
  },
  {
   "cell_type": "code",
   "execution_count": 2,
   "id": "f31104a7",
   "metadata": {},
   "outputs": [
    {
     "data": {
      "text/plain": [
       "count    30.000000\n",
       "mean     38.000000\n",
       "std       2.428019\n",
       "min      34.000000\n",
       "25%      36.000000\n",
       "50%      38.000000\n",
       "75%      40.000000\n",
       "max      42.000000\n",
       "dtype: float64"
      ]
     },
     "execution_count": 2,
     "metadata": {},
     "output_type": "execute_result"
    }
   ],
   "source": [
    "# STEP- 1: CREATING THE TEMPERATURE FOR 30 DAYS\n",
    "temp = np.linspace(34,42,30)\n",
    "temp = list(temp)\n",
    "l = []\n",
    "for t in temp:\n",
    "    l.append(round(t,2))\n",
    "temp = np.array(l)\n",
    "\n",
    "s1 = pd.Series(temp)\n",
    "s1.describe()"
   ]
  },
  {
   "cell_type": "code",
   "execution_count": 3,
   "id": "ef2ee527",
   "metadata": {},
   "outputs": [
    {
     "data": {
      "text/plain": [
       "count    28.000000\n",
       "mean     92.000000\n",
       "std       4.264766\n",
       "min      85.000000\n",
       "25%      88.500000\n",
       "50%      92.000000\n",
       "75%      95.500000\n",
       "max      99.000000\n",
       "dtype: float64"
      ]
     },
     "execution_count": 3,
     "metadata": {},
     "output_type": "execute_result"
    }
   ],
   "source": [
    "# STEP -2: HUMIDITY CHART\n",
    "h1 = np.linspace(85,99,28)\n",
    "h1 = list(h1)\n",
    "l = []\n",
    "for h in h1:\n",
    "    l.append(round(h,2))\n",
    "h1 = np.array(l)\n",
    "\n",
    "s2 = pd.Series(h1)\n",
    "s2.describe()"
   ]
  },
  {
   "cell_type": "code",
   "execution_count": 4,
   "id": "7d63f5c2",
   "metadata": {},
   "outputs": [
    {
     "data": {
      "text/plain": [
       "0     10.00\n",
       "1     10.53\n",
       "2     11.06\n",
       "3     11.59\n",
       "4     12.12\n",
       "5     12.65\n",
       "6     13.18\n",
       "7     13.71\n",
       "8     14.24\n",
       "9     14.76\n",
       "10    15.29\n",
       "11    15.82\n",
       "12    16.35\n",
       "13    16.88\n",
       "14    17.41\n",
       "15    17.94\n",
       "16    18.47\n",
       "17    19.00\n",
       "dtype: float64"
      ]
     },
     "execution_count": 4,
     "metadata": {},
     "output_type": "execute_result"
    }
   ],
   "source": [
    "# STEP - 3: WIND SPEED\n",
    "w1 = np.linspace(10, 19, 18)\n",
    "w1 = list(w1)\n",
    "l = []\n",
    "for w in w1:\n",
    "    l.append(round(w,2))\n",
    "w1 = np.array(l)\n",
    "\n",
    "s3 = pd.Series(w1)\n",
    "s3.describe()\n",
    "s3"
   ]
  },
  {
   "cell_type": "code",
   "execution_count": 5,
   "id": "20ecfbce",
   "metadata": {},
   "outputs": [
    {
     "data": {
      "text/plain": [
       "[[37.59, 89.45, 14.45],\n",
       " [41.45, 89.68, 10.4],\n",
       " [35.66, 85.13, 17.11],\n",
       " [36.76, 90.63, 14.27],\n",
       " [34.0, 85.78, 17.68],\n",
       " [36.48, 88.69, 14.71],\n",
       " [40.62, 89.5, 10.03],\n",
       " [38.69, 97.97, 13.62],\n",
       " [37.31, 91.82, 15.7],\n",
       " [38.69, 98.82, 14.14],\n",
       " [37.86, 88.34, 14.99],\n",
       " [41.72, 88.2, 12.07],\n",
       " [35.93, 88.57, 17.76],\n",
       " [40.9, 89.29, 10.41],\n",
       " [40.62, 89.7, 10.83],\n",
       " [40.34, 89.37, 11.04],\n",
       " [37.86, 88.13, 16.25],\n",
       " [40.9, 87.85, 11.53],\n",
       " [34.55, 86.64, 16.88],\n",
       " [39.52, 96.59, 14.23],\n",
       " [40.07, 88.44, 11.95],\n",
       " [39.24, 98.75, 13.67],\n",
       " [35.93, 86.53, 18.81],\n",
       " [40.07, 87.85, 10.5],\n",
       " [37.31, 92.22, 15.34],\n",
       " [35.93, 88.11, 17.14],\n",
       " [41.72, 88.81, 11.22],\n",
       " [42.0, 88.95, 11.05],\n",
       " [40.07, 88.24, 10.62],\n",
       " [40.07, 88.27, 11.0],\n",
       " [37.59, 88.34, 15.63],\n",
       " [39.79, 95.95, 14.16],\n",
       " [40.07, 89.65, 10.25],\n",
       " [38.69, 95.15, 13.37],\n",
       " [38.41, 93.47, 14.65],\n",
       " [39.79, 95.65, 13.14],\n",
       " [39.52, 95.19, 13.02],\n",
       " [38.41, 95.33, 13.62],\n",
       " [39.24, 97.65, 13.19],\n",
       " [40.9, 88.69, 11.07],\n",
       " [37.86, 88.36, 14.63],\n",
       " [40.34, 89.03, 11.96],\n",
       " [40.9, 88.81, 11.16],\n",
       " [35.38, 86.97, 17.52],\n",
       " [40.9, 89.13, 10.97],\n",
       " [37.86, 90.38, 14.81],\n",
       " [40.34, 90.01, 11.52],\n",
       " [37.59, 89.04, 14.92],\n",
       " [34.83, 88.6, 16.73],\n",
       " [35.1, 86.9, 17.71],\n",
       " [41.45, 89.4, 10.76],\n",
       " [41.72, 87.85, 10.48],\n",
       " [34.0, 86.41, 18.46],\n",
       " [40.9, 88.6, 10.02],\n",
       " [41.45, 88.56, 10.57],\n",
       " [34.83, 87.22, 16.72],\n",
       " [36.21, 91.75, 15.48],\n",
       " [38.41, 94.45, 13.86],\n",
       " [35.38, 86.6, 18.58],\n",
       " [40.07, 88.28, 11.93],\n",
       " [39.52, 93.59, 14.31],\n",
       " [35.93, 86.44, 17.49],\n",
       " [41.72, 88.08, 10.46],\n",
       " [38.69, 93.27, 14.71],\n",
       " [39.79, 98.15, 14.76],\n",
       " [37.31, 90.73, 15.49],\n",
       " [40.9, 89.52, 10.1],\n",
       " [35.66, 86.49, 18.95],\n",
       " [38.69, 96.51, 14.62],\n",
       " [35.1, 85.23, 16.9],\n",
       " [39.24, 95.04, 13.6],\n",
       " [39.52, 95.46, 12.72],\n",
       " [40.07, 88.15, 11.39],\n",
       " [35.38, 87.01, 18.7],\n",
       " [37.03, 88.58, 14.75],\n",
       " [37.59, 91.13, 14.89],\n",
       " [36.21, 89.67, 14.78],\n",
       " [40.9, 89.48, 11.94],\n",
       " [40.34, 89.77, 10.39],\n",
       " [34.0, 86.37, 17.9],\n",
       " [41.72, 88.08, 11.93],\n",
       " [38.41, 95.73, 12.53],\n",
       " [37.03, 89.77, 14.61],\n",
       " [41.45, 87.93, 10.14],\n",
       " [37.31, 88.18, 15.24],\n",
       " [35.38, 85.66, 18.58],\n",
       " [38.69, 92.81, 14.52],\n",
       " [35.93, 87.5, 17.21],\n",
       " [36.48, 90.27, 15.33],\n",
       " [40.07, 88.82, 10.87],\n",
       " [38.69, 97.36, 12.28],\n",
       " [37.86, 92.06, 15.04],\n",
       " [37.59, 89.81, 16.03],\n",
       " [35.93, 86.21, 18.46],\n",
       " [39.79, 94.27, 12.63],\n",
       " [37.59, 90.17, 15.84],\n",
       " [38.14, 95.02, 14.08],\n",
       " [41.45, 90.14, 11.6],\n",
       " [35.38, 87.1, 16.58],\n",
       " [34.55, 85.63, 16.61],\n",
       " [36.21, 88.86, 15.56],\n",
       " [38.97, 95.08, 12.39],\n",
       " [39.79, 97.81, 12.32],\n",
       " [38.41, 98.55, 12.48],\n",
       " [38.14, 98.24, 13.11],\n",
       " [36.76, 91.06, 16.32],\n",
       " [37.31, 90.72, 15.52],\n",
       " [38.41, 96.75, 14.5],\n",
       " [38.41, 95.69, 12.66],\n",
       " [41.17, 87.65, 11.46],\n",
       " [40.07, 89.28, 10.81],\n",
       " [40.9, 88.28, 10.64],\n",
       " [34.0, 85.17, 16.83],\n",
       " [35.1, 87.24, 18.75],\n",
       " [40.9, 89.5, 10.82],\n",
       " [38.41, 98.74, 13.75],\n",
       " [37.31, 88.6, 15.39],\n",
       " [35.1, 88.26, 17.21],\n",
       " [42.0, 88.6, 10.64],\n",
       " [35.1, 88.15, 17.69],\n",
       " [36.76, 88.43, 15.27],\n",
       " [35.1, 85.88, 17.96],\n",
       " [42.0, 88.92, 11.89],\n",
       " [39.79, 97.36, 13.28],\n",
       " [39.79, 98.15, 12.57],\n",
       " [34.83, 87.88, 17.89],\n",
       " [41.45, 88.99, 11.62],\n",
       " [40.34, 89.02, 11.16],\n",
       " [38.14, 95.8, 12.2],\n",
       " [37.31, 89.87, 16.24],\n",
       " [35.1, 85.81, 18.79],\n",
       " [35.1, 85.4, 17.83],\n",
       " [35.66, 86.15, 16.87],\n",
       " [36.48, 88.28, 15.59],\n",
       " [34.0, 87.52, 16.93],\n",
       " [35.93, 85.45, 18.1],\n",
       " [37.59, 90.48, 15.27],\n",
       " [40.9, 88.55, 10.67],\n",
       " [34.55, 87.75, 17.24],\n",
       " [38.41, 97.45, 14.1],\n",
       " [38.97, 98.01, 12.73],\n",
       " [39.79, 95.1, 12.61],\n",
       " [37.03, 90.17, 14.34],\n",
       " [35.1, 88.03, 16.78],\n",
       " [41.72, 90.05, 11.79],\n",
       " [40.9, 89.27, 11.34],\n",
       " [38.97, 97.16, 14.47],\n",
       " [37.86, 91.8, 16.11],\n",
       " [37.59, 90.39, 14.75],\n",
       " [35.1, 85.97, 17.3],\n",
       " [41.45, 89.33, 10.31]]"
      ]
     },
     "execution_count": 5,
     "metadata": {},
     "output_type": "execute_result"
    }
   ],
   "source": [
    "# STEP 4: CREATING A RANDOM MANIPULATED DATASET\n",
    "l1 = []\n",
    "i = 0\n",
    "while i <= 150:\n",
    "    r = random.choice(temp)\n",
    "    \n",
    "    if r <= 36:\n",
    "        \n",
    "        r1 = random.uniform(h1[0], h1[7])\n",
    "        r2 = random.uniform(w1[12], w1[17])\n",
    "        r1 = round(r1,2)\n",
    "        r2 = round(r2,2)\n",
    "        l2 = [r, r1, r2]\n",
    "        l1.append(l2)\n",
    "        i += 1\n",
    "    if r > 36 and r <= 38:\n",
    "        \n",
    "        r1 = random.uniform(h1[6], h1[14])\n",
    "        r2 = random.uniform(w1[8], w1[12])\n",
    "        r1 = round(r1,2)\n",
    "        r2 = round(r2,2)\n",
    "        l2 = [r, r1, r2]\n",
    "        l1.append(l2)\n",
    "        i += 1\n",
    "    if r > 38 and r <= 40:\n",
    "        \n",
    "        r1 = random.uniform(h1[15], h1[27])\n",
    "        r2 = random.uniform(w1[4], w1[9])\n",
    "        r1 = round(r1,2)\n",
    "        r2 = round(r2,2)\n",
    "        l2 = [r, r1, r2]\n",
    "        l1.append(l2)\n",
    "        i += 1\n",
    "    if r > 40 and r <= 42:\n",
    "        \n",
    "        r1 = random.uniform(h1[5], h1[10])\n",
    "        r2 = random.uniform(w1[0], w1[4])\n",
    "        r1 = round(r1,2)\n",
    "        r2 = round(r2,2)\n",
    "        l2 = [r, r1, r2]\n",
    "        l1.append(l2)\n",
    "        i += 1\n",
    "   \n",
    "        \n",
    "l1\n"
   ]
  },
  {
   "cell_type": "code",
   "execution_count": 6,
   "id": "8d9e948b",
   "metadata": {},
   "outputs": [
    {
     "data": {
      "text/plain": [
       "(151, 3)"
      ]
     },
     "execution_count": 6,
     "metadata": {},
     "output_type": "execute_result"
    }
   ],
   "source": [
    "# STEP 5: CONVERTING LIST TO FINAL DATAFRAME\n",
    "\n",
    "n1 = np.array(l1)\n",
    "\n",
    "n1.shape"
   ]
  },
  {
   "cell_type": "code",
   "execution_count": 7,
   "id": "009f526e",
   "metadata": {},
   "outputs": [
    {
     "ename": "IndexError",
     "evalue": "index 151 is out of bounds for axis 0 with size 151",
     "output_type": "error",
     "traceback": [
      "\u001b[1;31m---------------------------------------------------------------------------\u001b[0m",
      "\u001b[1;31mIndexError\u001b[0m                                Traceback (most recent call last)",
      "\u001b[1;32m<ipython-input-7-516790ae9c1d>\u001b[0m in \u001b[0;36m<module>\u001b[1;34m\u001b[0m\n\u001b[0;32m      5\u001b[0m \u001b[0mWeather_dataset\u001b[0m \u001b[1;33m=\u001b[0m \u001b[0mpd\u001b[0m\u001b[1;33m.\u001b[0m\u001b[0mDataFrame\u001b[0m\u001b[1;33m(\u001b[0m\u001b[0mn2\u001b[0m\u001b[1;33m,\u001b[0m \u001b[0mcolumns\u001b[0m\u001b[1;33m=\u001b[0m \u001b[0mcol_name\u001b[0m\u001b[1;33m)\u001b[0m\u001b[1;33m\u001b[0m\u001b[1;33m\u001b[0m\u001b[0m\n\u001b[0;32m      6\u001b[0m \u001b[0mWeather_dataset\u001b[0m\u001b[1;33m\u001b[0m\u001b[1;33m\u001b[0m\u001b[0m\n\u001b[1;32m----> 7\u001b[1;33m \u001b[0mn2\u001b[0m\u001b[1;33m[\u001b[0m\u001b[1;36m151\u001b[0m\u001b[1;33m,\u001b[0m\u001b[1;36m0\u001b[0m\u001b[1;33m]\u001b[0m\u001b[1;33m\u001b[0m\u001b[1;33m\u001b[0m\u001b[0m\n\u001b[0m",
      "\u001b[1;31mIndexError\u001b[0m: index 151 is out of bounds for axis 0 with size 151"
     ]
    }
   ],
   "source": [
    "col_name = ['Temperature(C)', 'Humidity(%)', 'Wind Speed(km/hr)']\n",
    "df = pd.DataFrame(n1, columns= col_name)\n",
    "df_t = df.sort_values(by = ['Temperature(C)'])\n",
    "n2 = df_t.values\n",
    "Weather_dataset = pd.DataFrame(n2, columns= col_name)\n",
    "Weather_dataset\n",
    "n2[151,0]"
   ]
  },
  {
   "cell_type": "code",
   "execution_count": null,
   "id": "bb045af2",
   "metadata": {},
   "outputs": [],
   "source": [
    "Weather_dataset.iloc[132:151]"
   ]
  },
  {
   "cell_type": "code",
   "execution_count": null,
   "id": "3e5ededf",
   "metadata": {},
   "outputs": [],
   "source": [
    "\n"
   ]
  },
  {
   "cell_type": "code",
   "execution_count": 9,
   "id": "0afc004c",
   "metadata": {},
   "outputs": [
    {
     "data": {
      "text/plain": [
       "['Sunny',\n",
       " 'Overcast',\n",
       " 'Overcast',\n",
       " 'Sunny',\n",
       " 'Overcast',\n",
       " 'Sunny',\n",
       " 'Sunny',\n",
       " 'Sunny',\n",
       " 'Sunny',\n",
       " 'Overcast',\n",
       " 'Sunny',\n",
       " 'Sunny',\n",
       " 'Overcast',\n",
       " 'Overcast',\n",
       " 'Overcast',\n",
       " 'Overcast',\n",
       " 'Overcast',\n",
       " 'Sunny',\n",
       " 'Overcast',\n",
       " 'Sunny',\n",
       " 'Sunny',\n",
       " 'Overcast',\n",
       " 'Overcast',\n",
       " 'Overcast',\n",
       " 'Sunny',\n",
       " 'Overcast',\n",
       " 'Overcast',\n",
       " 'Sunny',\n",
       " 'Sunny',\n",
       " 'Sunny',\n",
       " 'Overcast',\n",
       " 'Sunny',\n",
       " 'Sunny',\n",
       " 'Overcast',\n",
       " 'Overcast',\n",
       " 'Overcast',\n",
       " 'Overcast',\n",
       " 'Overcast',\n",
       " 'Overcast',\n",
       " 'Overcast',\n",
       " 'Sunny',\n",
       " 'Sunny',\n",
       " 'Overcast',\n",
       " 'Rainy',\n",
       " 'Rainy',\n",
       " 'Sunny',\n",
       " 'Rainy',\n",
       " 'Overcast',\n",
       " 'Overcast',\n",
       " 'Overcast',\n",
       " 'Overcast',\n",
       " 'Overcast',\n",
       " 'Overcast',\n",
       " 'Sunny',\n",
       " 'Sunny',\n",
       " 'Overcast',\n",
       " 'Sunny',\n",
       " 'Overcast',\n",
       " 'Rainy',\n",
       " 'Overcast',\n",
       " 'Sunny',\n",
       " 'Rainy',\n",
       " 'Sunny',\n",
       " 'Rainy',\n",
       " 'Rainy',\n",
       " 'Sunny',\n",
       " 'Overcast',\n",
       " 'Overcast',\n",
       " 'Overcast',\n",
       " 'Rainy',\n",
       " 'Rainy',\n",
       " 'Rainy',\n",
       " 'Rainy',\n",
       " 'Overcast',\n",
       " 'Rainy',\n",
       " 'Overcast',\n",
       " 'Rainy',\n",
       " 'Rainy',\n",
       " 'Rainy',\n",
       " 'Overcast',\n",
       " 'Rainy',\n",
       " 'Sunny',\n",
       " 'Overcast',\n",
       " 'Rainy',\n",
       " 'Rainy',\n",
       " 'Overcast',\n",
       " 'Overcast',\n",
       " 'Overcast',\n",
       " 'Overcast',\n",
       " 'Rainy',\n",
       " 'Rainy',\n",
       " 'Rainy',\n",
       " 'Rainy',\n",
       " 'Overcast',\n",
       " 'Rainy',\n",
       " 'Rainy',\n",
       " 'Rainy',\n",
       " 'Overcast',\n",
       " 'Rainy',\n",
       " 'Overcast',\n",
       " 'Rainy',\n",
       " 'Rainy',\n",
       " 'Rainy',\n",
       " 'Rainy',\n",
       " 'Rainy',\n",
       " 'Rainy',\n",
       " 'Overcast',\n",
       " 'Sunny',\n",
       " 'Overcast',\n",
       " 'Sunny',\n",
       " 'Overcast',\n",
       " 'Sunny',\n",
       " 'Sunny',\n",
       " 'Overcast',\n",
       " 'Overcast',\n",
       " 'Rainy',\n",
       " 'Sunny',\n",
       " 'Sunny',\n",
       " 'Overcast',\n",
       " 'Overcast',\n",
       " 'Overcast',\n",
       " 'Rainy',\n",
       " 'Rainy',\n",
       " 'Sunny',\n",
       " 'Rainy',\n",
       " 'Sunny',\n",
       " 'Overcast',\n",
       " 'Overcast',\n",
       " 'Overcast',\n",
       " 'Sunny',\n",
       " 'Sunny',\n",
       " 'Sunny',\n",
       " 'Overcast',\n",
       " 'Rainy',\n",
       " 'Sunny',\n",
       " 'Sunny',\n",
       " 'Sunny',\n",
       " 'Rainy',\n",
       " 'Rainy',\n",
       " 'Rainy',\n",
       " 'Rainy',\n",
       " 'Sunny',\n",
       " 'Sunny',\n",
       " 'Sunny',\n",
       " 'Rainy',\n",
       " 'Overcast',\n",
       " 'Overcast',\n",
       " 'Sunny',\n",
       " 'Sunny',\n",
       " 'Overcast',\n",
       " 'Sunny']"
      ]
     },
     "execution_count": 9,
     "metadata": {},
     "output_type": "execute_result"
    }
   ],
   "source": [
    "# STEP- 6: DATA OF RAIN (RAIN INDEX)\n",
    "day = []\n",
    "for i in range(0, 151):\n",
    "    if n2[i,0] <= 36 and n2[i,2] > 16 and n2[i,2] <= 17.5:\n",
    "        day.append('Sunny')\n",
    "        continue\n",
    "    elif n2[i,0] <= 36 and n2[i,2] > 16 and n2[i,2] <= 19:\n",
    "        day.append('Overcast')\n",
    "        continue\n",
    "    elif n2[i,0] >= 36 and n2[i,0] <= 38 and n2[i,1] < 91 and n2[i,1] >= 88 and n2[i,2] > 14 and n2[i,2] <= 15.25:\n",
    "        c = ('Rainy', 'Overcast', 'Sunny')\n",
    "        cc = random.choice(c)\n",
    "        day.append(cc)\n",
    "        continue\n",
    "    elif n2[i,0] >= 36 and n2[i,0] <= 38 and n2[i,1] < 92.3 and n2[i,1] >= 91 and n2[i,2] > 15.25 and n2[i,2] <= 16.5:\n",
    "        c = ('Rainy', 'Overcast')\n",
    "        cc = random.choice(c)\n",
    "        day.append(cc)\n",
    "        continue\n",
    "    elif n2[i,0] >= 38 and n2[i,0] <= 40 and n2[i,1] <= 99 and n2[i,1] >= 93 and n2[i, 2] > 12 and n2[i,2] <= 13.25:\n",
    "        day.append('Rainy')\n",
    "        continue\n",
    "    elif n2[i,0] >= 38 and n2[i,0] <= 40 and n2[i,1] <= 99 and n2[i,1] >= 93 and n2[i, 2] > 13.25 and n2[i,2] <= 14.5:\n",
    "        c = ('Rainy', 'Overcast')\n",
    "        cc = random.choice(c)\n",
    "        day.append(cc)\n",
    "        continue\n",
    "    elif n2[i,0] >= 40 and n2[i,0] <=42 and n2[i,1] <= 90 and n2[i,1] >= 86 and n2[i,2] > 10 and n2[i,2] <= 11.25:\n",
    "        c = ('Rainy', 'Overcast', 'Sunny')\n",
    "        cc = random.choice(c)\n",
    "        day.append(cc)\n",
    "        continue\n",
    "    elif n2[i,0] >= 40 and n2[i,0] <=42 and n2[i,1] <= 90 and n2[i,1] >= 86 and n2[i,2] > 11.25 and n2[i,2] <= 12.25: \n",
    "        c = ('Sunny', 'Overcast')\n",
    "        cc = random.choice(c)\n",
    "        day.append(cc)\n",
    "        continue\n",
    "    else:\n",
    "        c= ('Sunny', 'Overcast', 'Rainy')   # To much entropy to sort....\n",
    "        cc = random.choice(c)\n",
    "        day.append(cc)\n",
    "        continue\n",
    "\n",
    "day"
   ]
  },
  {
   "cell_type": "code",
   "execution_count": 10,
   "id": "f210f5a1",
   "metadata": {},
   "outputs": [
    {
     "data": {
      "text/plain": [
       "array(['Sunny', 'Overcast', 'Overcast', 'Sunny', 'Overcast', 'Sunny',\n",
       "       'Sunny', 'Sunny', 'Sunny', 'Overcast', 'Sunny', 'Sunny',\n",
       "       'Overcast', 'Overcast', 'Overcast', 'Overcast', 'Overcast',\n",
       "       'Sunny', 'Overcast', 'Sunny', 'Sunny', 'Overcast', 'Overcast',\n",
       "       'Overcast', 'Sunny', 'Overcast', 'Overcast', 'Sunny', 'Sunny',\n",
       "       'Sunny', 'Overcast', 'Sunny', 'Sunny', 'Overcast', 'Overcast',\n",
       "       'Overcast', 'Overcast', 'Overcast', 'Overcast', 'Overcast',\n",
       "       'Sunny', 'Sunny', 'Overcast', 'Rainy', 'Rainy', 'Sunny', 'Rainy',\n",
       "       'Overcast', 'Overcast', 'Overcast', 'Overcast', 'Overcast',\n",
       "       'Overcast', 'Sunny', 'Sunny', 'Overcast', 'Sunny', 'Overcast',\n",
       "       'Rainy', 'Overcast', 'Sunny', 'Rainy', 'Sunny', 'Rainy', 'Rainy',\n",
       "       'Sunny', 'Overcast', 'Overcast', 'Overcast', 'Rainy', 'Rainy',\n",
       "       'Rainy', 'Rainy', 'Overcast', 'Rainy', 'Overcast', 'Rainy',\n",
       "       'Rainy', 'Rainy', 'Overcast', 'Rainy', 'Sunny', 'Overcast',\n",
       "       'Rainy', 'Rainy', 'Overcast', 'Overcast', 'Overcast', 'Overcast',\n",
       "       'Rainy', 'Rainy', 'Rainy', 'Rainy', 'Overcast', 'Rainy', 'Rainy',\n",
       "       'Rainy', 'Overcast', 'Rainy', 'Overcast', 'Rainy', 'Rainy',\n",
       "       'Rainy', 'Rainy', 'Rainy', 'Rainy', 'Overcast', 'Sunny',\n",
       "       'Overcast', 'Sunny', 'Overcast', 'Sunny', 'Sunny', 'Overcast',\n",
       "       'Overcast', 'Rainy', 'Sunny', 'Sunny', 'Overcast', 'Overcast',\n",
       "       'Overcast', 'Rainy', 'Rainy', 'Sunny', 'Rainy', 'Sunny',\n",
       "       'Overcast', 'Overcast', 'Overcast', 'Sunny', 'Sunny', 'Sunny',\n",
       "       'Overcast', 'Rainy', 'Sunny', 'Sunny', 'Sunny', 'Rainy', 'Rainy',\n",
       "       'Rainy', 'Rainy', 'Sunny', 'Sunny', 'Sunny', 'Rainy', 'Overcast',\n",
       "       'Overcast', 'Sunny', 'Sunny', 'Overcast', 'Sunny'], dtype=object)"
      ]
     },
     "execution_count": 10,
     "metadata": {},
     "output_type": "execute_result"
    }
   ],
   "source": [
    "s = pd.Series(day)\n",
    "s\n",
    "n3 = s.values\n",
    "n3"
   ]
  },
  {
   "cell_type": "code",
   "execution_count": 17,
   "id": "7b3817c0",
   "metadata": {},
   "outputs": [
    {
     "data": {
      "text/html": [
       "<div>\n",
       "<style scoped>\n",
       "    .dataframe tbody tr th:only-of-type {\n",
       "        vertical-align: middle;\n",
       "    }\n",
       "\n",
       "    .dataframe tbody tr th {\n",
       "        vertical-align: top;\n",
       "    }\n",
       "\n",
       "    .dataframe thead th {\n",
       "        text-align: right;\n",
       "    }\n",
       "</style>\n",
       "<table border=\"1\" class=\"dataframe\">\n",
       "  <thead>\n",
       "    <tr style=\"text-align: right;\">\n",
       "      <th></th>\n",
       "      <th>Temperature(C)</th>\n",
       "      <th>Humidity(%)</th>\n",
       "      <th>Wind Speed(km/hr)</th>\n",
       "      <th>is_train</th>\n",
       "      <th>Forecast</th>\n",
       "    </tr>\n",
       "  </thead>\n",
       "  <tbody>\n",
       "    <tr>\n",
       "      <th>0</th>\n",
       "      <td>34.00</td>\n",
       "      <td>85.17</td>\n",
       "      <td>16.83</td>\n",
       "      <td>True</td>\n",
       "      <td>Sunny</td>\n",
       "    </tr>\n",
       "    <tr>\n",
       "      <th>1</th>\n",
       "      <td>34.00</td>\n",
       "      <td>85.78</td>\n",
       "      <td>17.68</td>\n",
       "      <td>True</td>\n",
       "      <td>Overcast</td>\n",
       "    </tr>\n",
       "    <tr>\n",
       "      <th>2</th>\n",
       "      <td>34.00</td>\n",
       "      <td>86.41</td>\n",
       "      <td>18.46</td>\n",
       "      <td>True</td>\n",
       "      <td>Overcast</td>\n",
       "    </tr>\n",
       "    <tr>\n",
       "      <th>3</th>\n",
       "      <td>34.00</td>\n",
       "      <td>87.52</td>\n",
       "      <td>16.93</td>\n",
       "      <td>True</td>\n",
       "      <td>Sunny</td>\n",
       "    </tr>\n",
       "    <tr>\n",
       "      <th>4</th>\n",
       "      <td>34.00</td>\n",
       "      <td>86.37</td>\n",
       "      <td>17.90</td>\n",
       "      <td>True</td>\n",
       "      <td>Overcast</td>\n",
       "    </tr>\n",
       "    <tr>\n",
       "      <th>...</th>\n",
       "      <td>...</td>\n",
       "      <td>...</td>\n",
       "      <td>...</td>\n",
       "      <td>...</td>\n",
       "      <td>...</td>\n",
       "    </tr>\n",
       "    <tr>\n",
       "      <th>146</th>\n",
       "      <td>41.72</td>\n",
       "      <td>88.08</td>\n",
       "      <td>10.46</td>\n",
       "      <td>True</td>\n",
       "      <td>Overcast</td>\n",
       "    </tr>\n",
       "    <tr>\n",
       "      <th>147</th>\n",
       "      <td>41.72</td>\n",
       "      <td>87.85</td>\n",
       "      <td>10.48</td>\n",
       "      <td>False</td>\n",
       "      <td>Sunny</td>\n",
       "    </tr>\n",
       "    <tr>\n",
       "      <th>148</th>\n",
       "      <td>42.00</td>\n",
       "      <td>88.95</td>\n",
       "      <td>11.05</td>\n",
       "      <td>True</td>\n",
       "      <td>Sunny</td>\n",
       "    </tr>\n",
       "    <tr>\n",
       "      <th>149</th>\n",
       "      <td>42.00</td>\n",
       "      <td>88.92</td>\n",
       "      <td>11.89</td>\n",
       "      <td>False</td>\n",
       "      <td>Overcast</td>\n",
       "    </tr>\n",
       "    <tr>\n",
       "      <th>150</th>\n",
       "      <td>42.00</td>\n",
       "      <td>88.60</td>\n",
       "      <td>10.64</td>\n",
       "      <td>True</td>\n",
       "      <td>Sunny</td>\n",
       "    </tr>\n",
       "  </tbody>\n",
       "</table>\n",
       "<p>151 rows × 5 columns</p>\n",
       "</div>"
      ],
      "text/plain": [
       "     Temperature(C)  Humidity(%)  Wind Speed(km/hr)  is_train  Forecast\n",
       "0             34.00        85.17              16.83      True     Sunny\n",
       "1             34.00        85.78              17.68      True  Overcast\n",
       "2             34.00        86.41              18.46      True  Overcast\n",
       "3             34.00        87.52              16.93      True     Sunny\n",
       "4             34.00        86.37              17.90      True  Overcast\n",
       "..              ...          ...                ...       ...       ...\n",
       "146           41.72        88.08              10.46      True  Overcast\n",
       "147           41.72        87.85              10.48     False     Sunny\n",
       "148           42.00        88.95              11.05      True     Sunny\n",
       "149           42.00        88.92              11.89     False  Overcast\n",
       "150           42.00        88.60              10.64      True     Sunny\n",
       "\n",
       "[151 rows x 5 columns]"
      ]
     },
     "execution_count": 17,
     "metadata": {},
     "output_type": "execute_result"
    }
   ],
   "source": [
    "Weather_dataset['Forecast'] = s\n",
    "Weather_dataset"
   ]
  },
  {
   "cell_type": "code",
   "execution_count": 19,
   "id": "cf1d3665",
   "metadata": {},
   "outputs": [
    {
     "data": {
      "text/html": [
       "<div>\n",
       "<style scoped>\n",
       "    .dataframe tbody tr th:only-of-type {\n",
       "        vertical-align: middle;\n",
       "    }\n",
       "\n",
       "    .dataframe tbody tr th {\n",
       "        vertical-align: top;\n",
       "    }\n",
       "\n",
       "    .dataframe thead th {\n",
       "        text-align: right;\n",
       "    }\n",
       "</style>\n",
       "<table border=\"1\" class=\"dataframe\">\n",
       "  <thead>\n",
       "    <tr style=\"text-align: right;\">\n",
       "      <th></th>\n",
       "      <th>Temperature(C)</th>\n",
       "      <th>Humidity(%)</th>\n",
       "      <th>Wind Speed(km/hr)</th>\n",
       "      <th>is_train</th>\n",
       "      <th>Forecast</th>\n",
       "    </tr>\n",
       "  </thead>\n",
       "  <tbody>\n",
       "    <tr>\n",
       "      <th>0</th>\n",
       "      <td>34.0</td>\n",
       "      <td>85.17</td>\n",
       "      <td>16.83</td>\n",
       "      <td>True</td>\n",
       "      <td>Sunny</td>\n",
       "    </tr>\n",
       "    <tr>\n",
       "      <th>1</th>\n",
       "      <td>34.0</td>\n",
       "      <td>85.78</td>\n",
       "      <td>17.68</td>\n",
       "      <td>True</td>\n",
       "      <td>Overcast</td>\n",
       "    </tr>\n",
       "    <tr>\n",
       "      <th>2</th>\n",
       "      <td>34.0</td>\n",
       "      <td>86.41</td>\n",
       "      <td>18.46</td>\n",
       "      <td>True</td>\n",
       "      <td>Overcast</td>\n",
       "    </tr>\n",
       "    <tr>\n",
       "      <th>3</th>\n",
       "      <td>34.0</td>\n",
       "      <td>87.52</td>\n",
       "      <td>16.93</td>\n",
       "      <td>True</td>\n",
       "      <td>Sunny</td>\n",
       "    </tr>\n",
       "    <tr>\n",
       "      <th>4</th>\n",
       "      <td>34.0</td>\n",
       "      <td>86.37</td>\n",
       "      <td>17.90</td>\n",
       "      <td>True</td>\n",
       "      <td>Overcast</td>\n",
       "    </tr>\n",
       "  </tbody>\n",
       "</table>\n",
       "</div>"
      ],
      "text/plain": [
       "   Temperature(C)  Humidity(%)  Wind Speed(km/hr)  is_train  Forecast\n",
       "0            34.0        85.17              16.83      True     Sunny\n",
       "1            34.0        85.78              17.68      True  Overcast\n",
       "2            34.0        86.41              18.46      True  Overcast\n",
       "3            34.0        87.52              16.93      True     Sunny\n",
       "4            34.0        86.37              17.90      True  Overcast"
      ]
     },
     "execution_count": 19,
     "metadata": {},
     "output_type": "execute_result"
    }
   ],
   "source": [
    "# STEP 7 : CREATING THE RANDOM FOREST TREE\n",
    "from sklearn.ensemble import RandomForestClassifier\n",
    "\n",
    "np.random.seed(0)\n",
    "\n",
    "# Creating Test and Train data\n",
    "Weather_dataset['is_train'] = np.random.uniform(0,1, len(df)) <= .75   # Randomly selecting 75% of the dataset for training\n",
    "Weather_dataset.head()"
   ]
  },
  {
   "cell_type": "code",
   "execution_count": 20,
   "id": "f5c8324b",
   "metadata": {},
   "outputs": [
    {
     "name": "stdout",
     "output_type": "stream",
     "text": [
      "Number of data for train  119\n",
      "Number of data for test  32\n"
     ]
    }
   ],
   "source": [
    "# Creating dataframes with train and test rows\n",
    "train, test = Weather_dataset[Weather_dataset['is_train']==True], Weather_dataset[Weather_dataset['is_train']==False]\n",
    "\n",
    "print('Number of data for train ',len(train))\n",
    "print('Number of data for test ',len(test))"
   ]
  },
  {
   "cell_type": "code",
   "execution_count": 21,
   "id": "d3a8c842",
   "metadata": {},
   "outputs": [
    {
     "data": {
      "text/plain": [
       "Index(['Temperature(C)', 'Humidity(%)', 'Wind Speed(km/hr)'], dtype='object')"
      ]
     },
     "execution_count": 21,
     "metadata": {},
     "output_type": "execute_result"
    }
   ],
   "source": [
    "# Creating a list of the feature column's names\n",
    "features = Weather_dataset.columns[:3]\n",
    "features"
   ]
  },
  {
   "cell_type": "code",
   "execution_count": 22,
   "id": "16ecc555",
   "metadata": {},
   "outputs": [
    {
     "data": {
      "text/plain": [
       "array([0, 1, 1, 0, 1, 0, 0, 1, 0, 1, 1, 1, 1, 1, 0, 1, 1, 0, 0, 1, 0, 1,\n",
       "       1, 1, 1, 1, 1, 0, 0, 1, 2, 2, 0, 2, 1, 1, 1, 1, 1, 0, 0, 1, 0, 1,\n",
       "       2, 1, 0, 2, 0, 2, 2, 0, 1, 2, 2, 1, 2, 1, 2, 2, 2, 1, 2, 0, 1, 2,\n",
       "       2, 1, 1, 1, 1, 2, 2, 2, 1, 2, 2, 2, 1, 1, 2, 2, 2, 2, 2, 1, 0, 1,\n",
       "       1, 0, 1, 2, 0, 1, 1, 2, 0, 2, 0, 1, 1, 1, 0, 0, 0, 1, 2, 0, 0, 0,\n",
       "       2, 2, 2, 0, 0, 1, 1, 0, 0], dtype=int64)"
      ]
     },
     "execution_count": 22,
     "metadata": {},
     "output_type": "execute_result"
    }
   ],
   "source": [
    "# Converting each forecast into digits\n",
    "y = pd.factorize(train['Forecast'])[0]\n",
    "y"
   ]
  },
  {
   "cell_type": "code",
   "execution_count": 23,
   "id": "02f8358a",
   "metadata": {},
   "outputs": [
    {
     "data": {
      "text/plain": [
       "RandomForestClassifier(n_jobs=2, random_state=0)"
      ]
     },
     "execution_count": 23,
     "metadata": {},
     "output_type": "execute_result"
    }
   ],
   "source": [
    "# Creating a random forest classifier\n",
    "clf = RandomForestClassifier(n_jobs = 2, random_state= 0)\n",
    "\n",
    "# Training the classifier\n",
    "clf.fit(train[features], y)"
   ]
  },
  {
   "cell_type": "code",
   "execution_count": 24,
   "id": "80fbdb44",
   "metadata": {},
   "outputs": [
    {
     "data": {
      "text/plain": [
       "array([0, 0, 0, 1, 0, 1, 0, 0, 1, 1, 0, 1, 0, 2, 2, 1, 1, 2, 2, 2, 2, 1,\n",
       "       1, 1, 0, 2, 1, 2, 0, 2, 1, 0], dtype=int64)"
      ]
     },
     "execution_count": 24,
     "metadata": {},
     "output_type": "execute_result"
    }
   ],
   "source": [
    "# Applying the trained Classifier to the test\n",
    "clf.predict(test[features])"
   ]
  },
  {
   "cell_type": "code",
   "execution_count": 25,
   "id": "043610e7",
   "metadata": {},
   "outputs": [
    {
     "data": {
      "text/plain": [
       "array(['Sunny', 'Sunny', 'Sunny', 'Overcast', 'Sunny', 'Overcast',\n",
       "       'Sunny', 'Sunny', 'Overcast', 'Overcast', 'Sunny', 'Overcast',\n",
       "       'Sunny', 'Overcast', 'Overcast', 'Overcast', 'Overcast',\n",
       "       'Overcast', 'Overcast', 'Overcast', 'Overcast', 'Overcast',\n",
       "       'Overcast', 'Overcast', 'Sunny', 'Overcast', 'Overcast',\n",
       "       'Overcast', 'Sunny', 'Overcast', 'Overcast', 'Sunny'], dtype=object)"
      ]
     },
     "execution_count": 25,
     "metadata": {},
     "output_type": "execute_result"
    }
   ],
   "source": [
    "# Mapping names for the plants for each predicted plant class\n",
    "preds = n3[clf.predict(test[features])]\n",
    "preds"
   ]
  },
  {
   "cell_type": "code",
   "execution_count": 26,
   "id": "dec9cd1c",
   "metadata": {},
   "outputs": [
    {
     "data": {
      "text/html": [
       "<div>\n",
       "<style scoped>\n",
       "    .dataframe tbody tr th:only-of-type {\n",
       "        vertical-align: middle;\n",
       "    }\n",
       "\n",
       "    .dataframe tbody tr th {\n",
       "        vertical-align: top;\n",
       "    }\n",
       "\n",
       "    .dataframe thead th {\n",
       "        text-align: right;\n",
       "    }\n",
       "</style>\n",
       "<table border=\"1\" class=\"dataframe\">\n",
       "  <thead>\n",
       "    <tr style=\"text-align: right;\">\n",
       "      <th>Predicted Forecast</th>\n",
       "      <th>Overcast</th>\n",
       "      <th>Sunny</th>\n",
       "    </tr>\n",
       "    <tr>\n",
       "      <th>Actual Forecast</th>\n",
       "      <th></th>\n",
       "      <th></th>\n",
       "    </tr>\n",
       "  </thead>\n",
       "  <tbody>\n",
       "    <tr>\n",
       "      <th>Overcast</th>\n",
       "      <td>9</td>\n",
       "      <td>2</td>\n",
       "    </tr>\n",
       "    <tr>\n",
       "      <th>Rainy</th>\n",
       "      <td>8</td>\n",
       "      <td>0</td>\n",
       "    </tr>\n",
       "    <tr>\n",
       "      <th>Sunny</th>\n",
       "      <td>4</td>\n",
       "      <td>9</td>\n",
       "    </tr>\n",
       "  </tbody>\n",
       "</table>\n",
       "</div>"
      ],
      "text/plain": [
       "Predicted Forecast  Overcast  Sunny\n",
       "Actual Forecast                    \n",
       "Overcast                   9      2\n",
       "Rainy                      8      0\n",
       "Sunny                      4      9"
      ]
     },
     "execution_count": 26,
     "metadata": {},
     "output_type": "execute_result"
    }
   ],
   "source": [
    "# Creating the confusion matrix\n",
    "pd.crosstab(test['Forecast'], preds, rownames= ['Actual Forecast'], colnames= ['Predicted Forecast'])"
   ]
  },
  {
   "cell_type": "code",
   "execution_count": 29,
   "id": "26fb5f5d",
   "metadata": {},
   "outputs": [
    {
     "data": {
      "text/plain": [
       "array(['Sunny'], dtype=object)"
      ]
     },
     "execution_count": 29,
     "metadata": {},
     "output_type": "execute_result"
    }
   ],
   "source": [
    "# Let create two inputs\n",
    "a = [36, 88, 15.2]\n",
    "\n",
    "\n",
    "pred = n3[clf.predict([a])]\n",
    "pred"
   ]
  },
  {
   "cell_type": "code",
   "execution_count": null,
   "id": "208d61a3",
   "metadata": {},
   "outputs": [],
   "source": []
  }
 ],
 "metadata": {
  "kernelspec": {
   "display_name": "Python 3",
   "language": "python",
   "name": "python3"
  },
  "language_info": {
   "codemirror_mode": {
    "name": "ipython",
    "version": 3
   },
   "file_extension": ".py",
   "mimetype": "text/x-python",
   "name": "python",
   "nbconvert_exporter": "python",
   "pygments_lexer": "ipython3",
   "version": "3.8.8"
  }
 },
 "nbformat": 4,
 "nbformat_minor": 5
}
